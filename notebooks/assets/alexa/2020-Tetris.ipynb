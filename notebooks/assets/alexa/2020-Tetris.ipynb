{
 "cells": [
  {
   "cell_type": "markdown",
   "metadata": {},
   "source": [
    "https://retro.readthedocs.io/en/latest/python.html\n",
    "\n",
    "https://github.com/h3nnn4n/Reverse-Engineering-the-GameBoy-Tetris/blob/master/mem_locations.md"
   ]
  },
  {
   "cell_type": "code",
   "execution_count": null,
   "metadata": {},
   "outputs": [],
   "source": [
    "# Standard\n",
    "from pathlib import Path\n",
    "import threading\n",
    "import time\n",
    "\n",
    "# Extra\n",
    "import retro\n",
    "from IPython.display import display\n",
    "import ipywidgets as widgets"
   ]
  },
  {
   "cell_type": "code",
   "execution_count": null,
   "metadata": {},
   "outputs": [],
   "source": [
    "TETRIS_PATH = Path(\".\") / \"data\" / \"tetris\""
   ]
  },
  {
   "cell_type": "code",
   "execution_count": null,
   "metadata": {},
   "outputs": [],
   "source": [
    "info_obj = {\n",
    "    \"lines_cleared\": 0,\n",
    "    #'frame_delay_remaining': 4,\n",
    "    \"level\": 0,\n",
    "    \"frame_delay\": 34,\n",
    "    \"lines_cleared_d1\": 0,\n",
    "    \"preview_piece\": 4,\n",
    "    \"screen_state\": 0,\n",
    "    \"score\": 0,\n",
    "    \"lines_cleared_d3\": 25,\n",
    "    \"lines_cleared_d2\": 25,\n",
    "}"
   ]
  },
  {
   "cell_type": "code",
   "execution_count": null,
   "metadata": {},
   "outputs": [],
   "source": [
    "all_widgets = {}\n",
    "for key in info_obj.keys():\n",
    "    all_widgets[key] = widgets.IntText(\n",
    "        description=f\"{key}:\",\n",
    "        disabled=True,\n",
    "        layout=widgets.Layout(width=\"200px\"),\n",
    "        style={\"description_width\": \"140px\"},\n",
    "    )"
   ]
  },
  {
   "cell_type": "code",
   "execution_count": null,
   "metadata": {},
   "outputs": [],
   "source": [
    "def update_widgets(info):\n",
    "    for k, v in info_obj.items():\n",
    "        all_widgets[k].value = info[k]"
   ]
  },
  {
   "cell_type": "code",
   "execution_count": null,
   "metadata": {},
   "outputs": [],
   "source": [
    "widgets.GridBox(\n",
    "    [v for k, v in all_widgets.items()],\n",
    "    layout=widgets.Layout(grid_template_columns=\"repeat(2, 300px)\"),\n",
    ")"
   ]
  },
  {
   "cell_type": "code",
   "execution_count": null,
   "metadata": {},
   "outputs": [],
   "source": [
    "retro.data.Integrations.add_custom_path(TETRIS_PATH.resolve())"
   ]
  },
  {
   "cell_type": "code",
   "execution_count": null,
   "metadata": {},
   "outputs": [],
   "source": [
    "[t for t in retro.data.list_games(inttype=retro.data.Integrations.ALL) if t.upper().startswith(\"TE\")]"
   ]
  },
  {
   "cell_type": "code",
   "execution_count": null,
   "metadata": {},
   "outputs": [],
   "source": [
    "env = retro.make(game=\"Tetris-GameBoy\", inttype=retro.data.Integrations.ALL)\n",
    "obs = env.reset()\n",
    "try:\n",
    "    while True:\n",
    "        obs, rew, done, info = env.step(env.action_space.sample())\n",
    "        env.render()\n",
    "        update_widgets(info)\n",
    "        if done:\n",
    "            obs = env.reset()\n",
    "except KeyboardInterrupt:\n",
    "    env.close()\n",
    "    pass"
   ]
  },
  {
   "cell_type": "code",
   "execution_count": null,
   "metadata": {},
   "outputs": [],
   "source": [
    "env.close()"
   ]
  },
  {
   "cell_type": "code",
   "execution_count": null,
   "metadata": {},
   "outputs": [],
   "source": []
  }
 ],
 "metadata": {
  "kernelspec": {
   "display_name": "Python 3",
   "language": "python",
   "name": "python3"
  },
  "language_info": {
   "codemirror_mode": {
    "name": "ipython",
    "version": 3
   },
   "file_extension": ".py",
   "mimetype": "text/x-python",
   "name": "python",
   "nbconvert_exporter": "python",
   "pygments_lexer": "ipython3",
   "version": "3.7.3"
  }
 },
 "nbformat": 4,
 "nbformat_minor": 4
}
