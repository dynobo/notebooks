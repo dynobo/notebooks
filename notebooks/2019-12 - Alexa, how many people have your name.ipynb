{
 "cells": [
  {
   "cell_type": "markdown",
   "metadata": {},
   "source": [
    "# Alexa, how many people have your name?\n",
    "\n",
    "***Work in Progress***"
   ]
  },
  {
   "cell_type": "markdown",
   "metadata": {},
   "source": [
    "## Introduction\n",
    "\n",
    "- Amazon Alexa, release dates [[1](#references)]\n",
    "- Baby Names, England and Wales [[2](#references)]"
   ]
  },
  {
   "cell_type": "markdown",
   "metadata": {},
   "source": [
    "**Other possible Sources:**\n",
    "\n",
    "- https://catalog.data.gov/dataset/baby-names-from-social-security-card-applications-national-level-data\n",
    "- https://www.bfs.admin.ch/bfs/de/home/statistiken/bevoelkerung/geburten-todesfaelle/vornamen-neugeborene.html\n",
    "- https://www.dia.govt.nz/diawebsite.nsf/wpg_URL/Services-Births-Deaths-and-Marriages-Most-Popular-Male-and-Female-First-Names\n",
    "- https://data.sa.gov.au/data/dataset/popular-baby-names"
   ]
  },
  {
   "cell_type": "markdown",
   "metadata": {},
   "source": [
    "## Setup\n",
    "\n",
    "### Imports"
   ]
  },
  {
   "cell_type": "code",
   "execution_count": 1,
   "metadata": {},
   "outputs": [],
   "source": [
    "# Default\n",
    "from pathlib import Path\n",
    "from zipfile import ZipFile\n",
    "import urllib\n",
    "import datetime\n",
    "\n",
    "# Extra\n",
    "\n",
    "import pandas as pd\n",
    "import seaborn as sns\n",
    "from matplotlib import pyplot as plt\n",
    "\n",
    "pd.plotting.register_matplotlib_converters()\n",
    "sns.set(style=\"darkgrid\")"
   ]
  },
  {
   "cell_type": "markdown",
   "metadata": {},
   "source": [
    "### Configuration"
   ]
  },
  {
   "cell_type": "code",
   "execution_count": 2,
   "metadata": {},
   "outputs": [],
   "source": [
    "DATASETS = {\n",
    "    \"US\": {\n",
    "        \"url\": \"https://www.ssa.gov/oact/babynames/names.zip\",\n",
    "        \"filename\": \"names_us.zip\",\n",
    "        \"release\": datetime.date(2015, 6, 28),\n",
    "    }\n",
    "}\n",
    "\n",
    "data_path = Path(\".\") / \"data\""
   ]
  },
  {
   "cell_type": "markdown",
   "metadata": {},
   "source": [
    "## Preparation"
   ]
  },
  {
   "cell_type": "markdown",
   "metadata": {},
   "source": [
    "### Download Datasets"
   ]
  },
  {
   "cell_type": "code",
   "execution_count": 3,
   "metadata": {},
   "outputs": [
    {
     "name": "stdout",
     "output_type": "stream",
     "text": [
      "Downloading US-dataset from https://www.ssa.gov/oact/babynames/names.zip ...\n",
      "Skipped download: data/names_us.zip already exists.\n",
      "Done.\n"
     ]
    }
   ],
   "source": [
    "# Create target folder, if not existing\n",
    "data_path.mkdir(parents=True, exist_ok=True)\n",
    "\n",
    "# Download and store files\n",
    "for name, desc in DATASETS.items():\n",
    "    print(f\"Downloading {name}-dataset from {desc['url']} ...\")\n",
    "    target_file = data_path / desc[\"filename\"]\n",
    "    if target_file.exists():\n",
    "        print(f\"Skipped download: {target_file} already exists.\")\n",
    "        continue\n",
    "    urllib.request.urlretrieve(desc[\"url\"], target_file)\n",
    "\n",
    "print(\"Done.\")"
   ]
  },
  {
   "cell_type": "markdown",
   "metadata": {},
   "source": [
    "### Prepare Dataset"
   ]
  },
  {
   "cell_type": "markdown",
   "metadata": {},
   "source": [
    "Helper functions for simple loading datasets into pandas DataFrame:"
   ]
  },
  {
   "cell_type": "code",
   "execution_count": 4,
   "metadata": {},
   "outputs": [],
   "source": [
    "def gen_dataset_us():\n",
    "    \"\"\"Generator yielding on year from US dataset.\n",
    "\n",
    "    Yields:\n",
    "        {pd.DataFrame} -- Dataframe containing names of one year\n",
    "\n",
    "    \"\"\"\n",
    "    file_path = data_path / DATASETS[\"US\"][\"filename\"]\n",
    "    with ZipFile(file_path, \"r\") as zip:\n",
    "        files = [f for f in zip.namelist() if f.endswith(\".txt\")]\n",
    "        for f in files:\n",
    "            df = pd.read_csv(zip.open(f), names=[\"Name\", \"Gender\", \"Count\"])\n",
    "            df[\"Year\"] = pd.to_datetime(int(f[3:7]), format=\"%Y\")\n",
    "            df[\"Dataset\"] = \"US\"\n",
    "            df[\"Rank\"] = df.groupby(\"Gender\")[\"Count\"].rank(method=\"max\", ascending=False).astype(int)\n",
    "            yield df\n",
    "\n",
    "\n",
    "def load_datasets(names):\n",
    "    \"\"\"Helper function to load datasets into single dataframe.\n",
    "\n",
    "    This also brings all datasets into the same form.\n",
    "\n",
    "    Arguments:\n",
    "        name {list} -- List of dataset short names, according to DATASETS\n",
    "\n",
    "    Returns:\n",
    "        {pd.DataFrame} -- All datasets in a single dataframe\n",
    "\n",
    "    \"\"\"\n",
    "    list_dfs = []\n",
    "\n",
    "    # Load individual Datasets\n",
    "    if \"US\" in names or \"all\" in names:\n",
    "        list_dfs.extend(gen_dataset_us())\n",
    "\n",
    "    # Merge list of dataframes into single dataframe\n",
    "    df_all = pd.concat(list_dfs, axis=0, ignore_index=True)\n",
    "\n",
    "    return df_all"
   ]
  },
  {
   "cell_type": "markdown",
   "metadata": {},
   "source": [
    "Actually loading the data:"
   ]
  },
  {
   "cell_type": "code",
   "execution_count": 5,
   "metadata": {},
   "outputs": [
    {
     "data": {
      "text/html": [
       "<div>\n",
       "<style scoped>\n",
       "    .dataframe tbody tr th:only-of-type {\n",
       "        vertical-align: middle;\n",
       "    }\n",
       "\n",
       "    .dataframe tbody tr th {\n",
       "        vertical-align: top;\n",
       "    }\n",
       "\n",
       "    .dataframe thead th {\n",
       "        text-align: right;\n",
       "    }\n",
       "</style>\n",
       "<table border=\"1\" class=\"dataframe\">\n",
       "  <thead>\n",
       "    <tr style=\"text-align: right;\">\n",
       "      <th></th>\n",
       "      <th>Name</th>\n",
       "      <th>Gender</th>\n",
       "      <th>Count</th>\n",
       "      <th>Year</th>\n",
       "      <th>Dataset</th>\n",
       "      <th>Rank</th>\n",
       "    </tr>\n",
       "  </thead>\n",
       "  <tbody>\n",
       "    <tr>\n",
       "      <th>0</th>\n",
       "      <td>Mary</td>\n",
       "      <td>F</td>\n",
       "      <td>7065</td>\n",
       "      <td>1880-01-01</td>\n",
       "      <td>US</td>\n",
       "      <td>1</td>\n",
       "    </tr>\n",
       "    <tr>\n",
       "      <th>1</th>\n",
       "      <td>Anna</td>\n",
       "      <td>F</td>\n",
       "      <td>2604</td>\n",
       "      <td>1880-01-01</td>\n",
       "      <td>US</td>\n",
       "      <td>2</td>\n",
       "    </tr>\n",
       "    <tr>\n",
       "      <th>2</th>\n",
       "      <td>Emma</td>\n",
       "      <td>F</td>\n",
       "      <td>2003</td>\n",
       "      <td>1880-01-01</td>\n",
       "      <td>US</td>\n",
       "      <td>3</td>\n",
       "    </tr>\n",
       "    <tr>\n",
       "      <th>3</th>\n",
       "      <td>Elizabeth</td>\n",
       "      <td>F</td>\n",
       "      <td>1939</td>\n",
       "      <td>1880-01-01</td>\n",
       "      <td>US</td>\n",
       "      <td>4</td>\n",
       "    </tr>\n",
       "    <tr>\n",
       "      <th>4</th>\n",
       "      <td>Minnie</td>\n",
       "      <td>F</td>\n",
       "      <td>1746</td>\n",
       "      <td>1880-01-01</td>\n",
       "      <td>US</td>\n",
       "      <td>5</td>\n",
       "    </tr>\n",
       "  </tbody>\n",
       "</table>\n",
       "</div>"
      ],
      "text/plain": [
       "        Name Gender  Count       Year Dataset  Rank\n",
       "0       Mary      F   7065 1880-01-01      US     1\n",
       "1       Anna      F   2604 1880-01-01      US     2\n",
       "2       Emma      F   2003 1880-01-01      US     3\n",
       "3  Elizabeth      F   1939 1880-01-01      US     4\n",
       "4     Minnie      F   1746 1880-01-01      US     5"
      ]
     },
     "execution_count": 5,
     "metadata": {},
     "output_type": "execute_result"
    }
   ],
   "source": [
    "df = load_datasets([\"all\"])\n",
    "df.head()"
   ]
  },
  {
   "cell_type": "markdown",
   "metadata": {},
   "source": [
    "Calculate percentage per year, dataset and Gender:"
   ]
  },
  {
   "cell_type": "code",
   "execution_count": 6,
   "metadata": {},
   "outputs": [],
   "source": [
    "def calculate_percentage(df):\n",
    "    # Group by dataset and year\n",
    "    df = df.groupby([\"Dataset\", \"Year\", \"Gender\", \"Rank\", \"Name\"]).agg({\"Count\": sum})\n",
    "\n",
    "    # Calculate percentage of names per year\n",
    "    df[\"Percentage\"] = df.groupby(level=1).apply(lambda x: 100 * x / float(x.sum()))\n",
    "\n",
    "    # Convert 'name' from multiindex to data column\n",
    "    df = df.reset_index()\n",
    "    return df"
   ]
  },
  {
   "cell_type": "code",
   "execution_count": 7,
   "metadata": {},
   "outputs": [
    {
     "data": {
      "text/html": [
       "<div>\n",
       "<style scoped>\n",
       "    .dataframe tbody tr th:only-of-type {\n",
       "        vertical-align: middle;\n",
       "    }\n",
       "\n",
       "    .dataframe tbody tr th {\n",
       "        vertical-align: top;\n",
       "    }\n",
       "\n",
       "    .dataframe thead th {\n",
       "        text-align: right;\n",
       "    }\n",
       "</style>\n",
       "<table border=\"1\" class=\"dataframe\">\n",
       "  <thead>\n",
       "    <tr style=\"text-align: right;\">\n",
       "      <th></th>\n",
       "      <th>Dataset</th>\n",
       "      <th>Year</th>\n",
       "      <th>Gender</th>\n",
       "      <th>Rank</th>\n",
       "      <th>Name</th>\n",
       "      <th>Count</th>\n",
       "      <th>Percentage</th>\n",
       "    </tr>\n",
       "  </thead>\n",
       "  <tbody>\n",
       "    <tr>\n",
       "      <th>0</th>\n",
       "      <td>US</td>\n",
       "      <td>1880-01-01</td>\n",
       "      <td>F</td>\n",
       "      <td>1</td>\n",
       "      <td>Mary</td>\n",
       "      <td>7065</td>\n",
       "      <td>3.506482</td>\n",
       "    </tr>\n",
       "    <tr>\n",
       "      <th>1</th>\n",
       "      <td>US</td>\n",
       "      <td>1880-01-01</td>\n",
       "      <td>F</td>\n",
       "      <td>2</td>\n",
       "      <td>Anna</td>\n",
       "      <td>2604</td>\n",
       "      <td>1.292410</td>\n",
       "    </tr>\n",
       "    <tr>\n",
       "      <th>2</th>\n",
       "      <td>US</td>\n",
       "      <td>1880-01-01</td>\n",
       "      <td>F</td>\n",
       "      <td>3</td>\n",
       "      <td>Emma</td>\n",
       "      <td>2003</td>\n",
       "      <td>0.994124</td>\n",
       "    </tr>\n",
       "    <tr>\n",
       "      <th>3</th>\n",
       "      <td>US</td>\n",
       "      <td>1880-01-01</td>\n",
       "      <td>F</td>\n",
       "      <td>4</td>\n",
       "      <td>Elizabeth</td>\n",
       "      <td>1939</td>\n",
       "      <td>0.962359</td>\n",
       "    </tr>\n",
       "    <tr>\n",
       "      <th>4</th>\n",
       "      <td>US</td>\n",
       "      <td>1880-01-01</td>\n",
       "      <td>F</td>\n",
       "      <td>5</td>\n",
       "      <td>Minnie</td>\n",
       "      <td>1746</td>\n",
       "      <td>0.866570</td>\n",
       "    </tr>\n",
       "    <tr>\n",
       "      <th>5</th>\n",
       "      <td>US</td>\n",
       "      <td>1880-01-01</td>\n",
       "      <td>F</td>\n",
       "      <td>6</td>\n",
       "      <td>Margaret</td>\n",
       "      <td>1578</td>\n",
       "      <td>0.783189</td>\n",
       "    </tr>\n",
       "    <tr>\n",
       "      <th>6</th>\n",
       "      <td>US</td>\n",
       "      <td>1880-01-01</td>\n",
       "      <td>F</td>\n",
       "      <td>7</td>\n",
       "      <td>Ida</td>\n",
       "      <td>1472</td>\n",
       "      <td>0.730579</td>\n",
       "    </tr>\n",
       "    <tr>\n",
       "      <th>7</th>\n",
       "      <td>US</td>\n",
       "      <td>1880-01-01</td>\n",
       "      <td>F</td>\n",
       "      <td>8</td>\n",
       "      <td>Alice</td>\n",
       "      <td>1414</td>\n",
       "      <td>0.701793</td>\n",
       "    </tr>\n",
       "    <tr>\n",
       "      <th>8</th>\n",
       "      <td>US</td>\n",
       "      <td>1880-01-01</td>\n",
       "      <td>F</td>\n",
       "      <td>9</td>\n",
       "      <td>Bertha</td>\n",
       "      <td>1320</td>\n",
       "      <td>0.655139</td>\n",
       "    </tr>\n",
       "    <tr>\n",
       "      <th>9</th>\n",
       "      <td>US</td>\n",
       "      <td>1880-01-01</td>\n",
       "      <td>F</td>\n",
       "      <td>10</td>\n",
       "      <td>Sarah</td>\n",
       "      <td>1288</td>\n",
       "      <td>0.639257</td>\n",
       "    </tr>\n",
       "  </tbody>\n",
       "</table>\n",
       "</div>"
      ],
      "text/plain": [
       "  Dataset       Year Gender  Rank       Name  Count  Percentage\n",
       "0      US 1880-01-01      F     1       Mary   7065    3.506482\n",
       "1      US 1880-01-01      F     2       Anna   2604    1.292410\n",
       "2      US 1880-01-01      F     3       Emma   2003    0.994124\n",
       "3      US 1880-01-01      F     4  Elizabeth   1939    0.962359\n",
       "4      US 1880-01-01      F     5     Minnie   1746    0.866570\n",
       "5      US 1880-01-01      F     6   Margaret   1578    0.783189\n",
       "6      US 1880-01-01      F     7        Ida   1472    0.730579\n",
       "7      US 1880-01-01      F     8      Alice   1414    0.701793\n",
       "8      US 1880-01-01      F     9     Bertha   1320    0.655139\n",
       "9      US 1880-01-01      F    10      Sarah   1288    0.639257"
      ]
     },
     "execution_count": 7,
     "metadata": {},
     "output_type": "execute_result"
    }
   ],
   "source": [
    "df = calculate_percentage(df)\n",
    "df.head(10)"
   ]
  },
  {
   "cell_type": "markdown",
   "metadata": {},
   "source": [
    "### Quick Sanity Checks"
   ]
  },
  {
   "cell_type": "code",
   "execution_count": 8,
   "metadata": {},
   "outputs": [
    {
     "name": "stdout",
     "output_type": "stream",
     "text": [
      "US in 1920:\n",
      "----------------------------------------\n",
      "Female names:\t52.96 %\n",
      "Male names:\t47.04 %\n",
      "Total:\t\t100.00000000000017 %\n"
     ]
    }
   ],
   "source": [
    "perc_female_temp = sum(df[(df[\"Dataset\"] == \"US\") & (df[\"Gender\"] == \"F\") & (df[\"Year\"] == \"1920-01-01\")][\"Percentage\"])\n",
    "perc_male_temp = sum(df[(df[\"Dataset\"] == \"US\") & (df[\"Gender\"] == \"M\") & (df[\"Year\"] == \"1920-01-01\")][\"Percentage\"])\n",
    "\n",
    "print(f\"US in 1920:\\n{'-'*40}\\nFemale names:\\t{perc_female_temp:.2f} %\")\n",
    "print(f\"Male names:\\t{perc_male_temp:.2f} %\")\n",
    "print(f\"Total:\\t\\t{perc_female_temp+perc_male_temp} %\")"
   ]
  },
  {
   "cell_type": "code",
   "execution_count": 9,
   "metadata": {},
   "outputs": [
    {
     "data": {
      "image/png": "[encoded data removed]",
      "text/plain": [
       "<Figure size 1008x576 with 3 Axes>"
      ]
     },
     "metadata": {},
     "output_type": "display_data"
    }
   ],
   "source": [
    "df_temp = df[(df[\"Name\"].isin([\"Alexa\", \"Victoria\"])) & (df[\"Gender\"] == \"F\")]\n",
    "\n",
    "fig, ax = plt.subplots(3, 1, figsize=(14, 8))\n",
    "sns.lineplot(x=\"Year\", y=\"Count\", hue=\"Name\", data=df_temp, ax=ax[0])\n",
    "sns.lineplot(x=\"Year\", y=\"Percentage\", hue=\"Name\", data=df_temp, ax=ax[1])\n",
    "sns.lineplot(x=\"Year\", y=\"Rank\", hue=\"Name\", data=df_temp, ax=ax[2]);"
   ]
  },
  {
   "cell_type": "markdown",
   "metadata": {},
   "source": [
    "**TODO: Wrap whole preprocessing**"
   ]
  },
  {
   "cell_type": "markdown",
   "metadata": {},
   "source": [
    "## Visualization"
   ]
  },
  {
   "cell_type": "markdown",
   "metadata": {},
   "source": [
    "### Filter datasets to \"Alexa\" only"
   ]
  },
  {
   "cell_type": "code",
   "execution_count": 14,
   "metadata": {},
   "outputs": [
    {
     "data": {
      "text/html": [
       "<div>\n",
       "<style scoped>\n",
       "    .dataframe tbody tr th:only-of-type {\n",
       "        vertical-align: middle;\n",
       "    }\n",
       "\n",
       "    .dataframe tbody tr th {\n",
       "        vertical-align: top;\n",
       "    }\n",
       "\n",
       "    .dataframe thead th {\n",
       "        text-align: right;\n",
       "    }\n",
       "</style>\n",
       "<table border=\"1\" class=\"dataframe\">\n",
       "  <thead>\n",
       "    <tr style=\"text-align: right;\">\n",
       "      <th></th>\n",
       "      <th>Dataset</th>\n",
       "      <th>Year</th>\n",
       "      <th>Gender</th>\n",
       "      <th>Rank</th>\n",
       "      <th>Count</th>\n",
       "      <th>Percentage</th>\n",
       "    </tr>\n",
       "  </thead>\n",
       "  <tbody>\n",
       "    <tr>\n",
       "      <th>133506</th>\n",
       "      <td>US</td>\n",
       "      <td>1916-01-01</td>\n",
       "      <td>F</td>\n",
       "      <td>5162</td>\n",
       "      <td>5</td>\n",
       "      <td>0.000258</td>\n",
       "    </tr>\n",
       "    <tr>\n",
       "      <th>143378</th>\n",
       "      <td>US</td>\n",
       "      <td>1917-01-01</td>\n",
       "      <td>F</td>\n",
       "      <td>5311</td>\n",
       "      <td>5</td>\n",
       "      <td>0.000249</td>\n",
       "    </tr>\n",
       "    <tr>\n",
       "      <th>184682</th>\n",
       "      <td>US</td>\n",
       "      <td>1921-01-01</td>\n",
       "      <td>F</td>\n",
       "      <td>5098</td>\n",
       "      <td>6</td>\n",
       "      <td>0.000257</td>\n",
       "    </tr>\n",
       "    <tr>\n",
       "      <th>206801</th>\n",
       "      <td>US</td>\n",
       "      <td>1923-01-01</td>\n",
       "      <td>F</td>\n",
       "      <td>5739</td>\n",
       "      <td>5</td>\n",
       "      <td>0.000217</td>\n",
       "    </tr>\n",
       "    <tr>\n",
       "      <th>217549</th>\n",
       "      <td>US</td>\n",
       "      <td>1924-01-01</td>\n",
       "      <td>F</td>\n",
       "      <td>5899</td>\n",
       "      <td>5</td>\n",
       "      <td>0.000210</td>\n",
       "    </tr>\n",
       "  </tbody>\n",
       "</table>\n",
       "</div>"
      ],
      "text/plain": [
       "       Dataset       Year Gender  Rank  Count  Percentage\n",
       "133506      US 1916-01-01      F  5162      5    0.000258\n",
       "143378      US 1917-01-01      F  5311      5    0.000249\n",
       "184682      US 1921-01-01      F  5098      6    0.000257\n",
       "206801      US 1923-01-01      F  5739      5    0.000217\n",
       "217549      US 1924-01-01      F  5899      5    0.000210"
      ]
     },
     "execution_count": 14,
     "metadata": {},
     "output_type": "execute_result"
    }
   ],
   "source": [
    "df_alexa = df[(df[\"Name\"] == \"Alexa\") & (df[\"Gender\"] == \"F\")]\n",
    "df_alexa = df_alexa.drop(columns=\"Name\")\n",
    "df_alexa.head()"
   ]
  },
  {
   "cell_type": "markdown",
   "metadata": {},
   "source": [
    "### Quick and dirty version"
   ]
  },
  {
   "cell_type": "code",
   "execution_count": 15,
   "metadata": {},
   "outputs": [
    {
     "data": {
      "image/png": "[encoded data removed]",
      "text/plain": [
       "<Figure size 1008x576 with 3 Axes>"
      ]
     },
     "metadata": {},
     "output_type": "display_data"
    }
   ],
   "source": [
    "fig, ax = plt.subplots(3, 1, figsize=(14, 8))\n",
    "sns.lineplot(x=\"Year\", y=\"Percentage\", data=df_alexa, ax=ax[0])\n",
    "ax[0].axvline(x=DATASETS[\"US\"][\"release\"], color=\"orangered\", linewidth=1);"
   ]
  },
  {
   "cell_type": "markdown",
   "metadata": {},
   "source": [
    "### Final Version"
   ]
  },
  {
   "cell_type": "markdown",
   "metadata": {},
   "source": [
    "<a name=\"references\" />\n",
    "\n",
    "## References\n",
    "\n",
    "[1] Wikipedia contributors (2019): **Amazon Alexa**. In *Wikipedia - The Free Encyclopedia*. Retrieved Dec 28, 2019, from <https://en.wikipedia.org/w/index.php?title=Amazon_Alexa&oldid=932280905>\n",
    "\n",
    "[2] Office for National Statistics (2018): **Baby names in England and Wales: 2018**. Retrieved Dec 28, 2019, from <https://www.ons.gov.uk/peoplepopulationandcommunity/birthsdeathsandmarriages/livebirths/bulletins/babynamesenglandandwales/2018>"
   ]
  }
 ],
 "metadata": {
  "file_extension": ".py",
  "kernelspec": {
   "display_name": "Python 3",
   "language": "python",
   "name": "python3"
  },
  "language_info": {
   "codemirror_mode": {
    "name": "ipython",
    "version": 3
   },
   "file_extension": ".py",
   "mimetype": "text/x-python",
   "name": "python",
   "nbconvert_exporter": "python",
   "pygments_lexer": "ipython3",
   "version": "3.7.3"
  },
  "mimetype": "text/x-python",
  "name": "python",
  "npconvert_exporter": "python",
  "pygments_lexer": "ipython3",
  "toc-autonumbering": true,
  "toc-showcode": false,
  "toc-showmarkdowntxt": false,
  "toc-showtags": false,
  "version": 3
 },
 "nbformat": 4,
 "nbformat_minor": 4
}
