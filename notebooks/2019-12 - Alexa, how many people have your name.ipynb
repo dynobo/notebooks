{
 "cells": [
  {
   "cell_type": "markdown",
   "metadata": {},
   "source": [
    "<font size=\"+4\">Alexa, how many people have your name?</font>\n",
    "\n",
    "***Work in Progress***"
   ]
  },
  {
   "cell_type": "markdown",
   "metadata": {},
   "source": [
    "# Introduction"
   ]
  },
  {
   "cell_type": "markdown",
   "metadata": {},
   "source": [
    "## Datasets"
   ]
  },
  {
   "cell_type": "markdown",
   "metadata": {},
   "source": [
    "**Amazon Alexa Release dates [[1](#references)]:**\n",
    "\n",
    "The release dates of Amazon Alexa for the different countries are covered by a table on the Wikipedia. I manually looked up the dates for the individual countries.\n",
    "\n",
    "**Baby Names, England and Wales [[2](#references)] [[3](#references)]:**\n",
    "\n",
    "The GB Office for National Statistics provided their data in two different subsets: The first dataset covers the years 1907 to 1994, but contains only the top 100 names and only their gender and rank, not their count. The second dataset covers from 1996 to 2018 is more complete, covering much more names (with count >= 3) and provides gender, rank and counts. I wasn't able to identify datasets for the missing year 1995.\n",
    "\n",
    "**Baby Names, United States [[4](#references)]:**\n",
    "\n",
    "This dataset provided by the US Social Security Administration (SSA) seems quite complete: It contains information on name, gender, count and rank covers for every years from 1880 to 2018. The fact that it contains names with single occurcance (count=1) indicates, that *all* names are included."
   ]
  },
  {
   "cell_type": "markdown",
   "metadata": {},
   "source": [
    "**Other possible Sources:**\n",
    "\n",
    "- https://www.bfs.admin.ch/bfs/de/home/statistiken/bevoelkerung/geburten-todesfaelle/vornamen-neugeborene.html\n",
    "- https://www.dia.govt.nz/diawebsite.nsf/wpg_URL/Services-Births-Deaths-and-Marriages-Most-Popular-Male-and-Female-First-Names\n",
    "- https://data.sa.gov.au/data/dataset/popular-baby-names"
   ]
  },
  {
   "cell_type": "markdown",
   "metadata": {},
   "source": [
    "# Setup"
   ]
  },
  {
   "cell_type": "markdown",
   "metadata": {},
   "source": [
    "## Imports"
   ]
  },
  {
   "cell_type": "code",
   "execution_count": 1,
   "metadata": {},
   "outputs": [],
   "source": [
    "# Default\n",
    "from pathlib import Path\n",
    "from zipfile import ZipFile\n",
    "import io\n",
    "import urllib\n",
    "import datetime\n",
    "import sys\n",
    "import platform\n",
    "import psutil\n",
    "\n",
    "# Extra\n",
    "import pandas as pd\n",
    "import numpy as np\n",
    "import seaborn as sns\n",
    "import matplotlib\n",
    "from matplotlib import pyplot as plt\n",
    "\n",
    "pd.plotting.register_matplotlib_converters()\n",
    "sns.set(style=\"darkgrid\")"
   ]
  },
  {
   "cell_type": "markdown",
   "metadata": {},
   "source": [
    "## System information"
   ]
  },
  {
   "cell_type": "markdown",
   "metadata": {},
   "source": [
    "Sometimes useful for reproducability:"
   ]
  },
  {
   "cell_type": "code",
   "execution_count": 2,
   "metadata": {},
   "outputs": [
    {
     "name": "stdout",
     "output_type": "stream",
     "text": [
      "---- System information ----\n",
      "OS: Linux, 5.3.0-24-generic\n",
      "Platform: x86_64\n",
      "Logical cores: 8\n",
      "Max Frequency: 4000 Mhz\n",
      "Total Memory: 31.13 GB\n",
      "\n",
      "---- Python information ----\n",
      "python: 3.7.3\n",
      "psutil: 5.6.7\n",
      "pandas: 0.25.3\n",
      "numpy: 1.17.3\n",
      "seaborn: 0.9.0\n",
      "matplotlib: 3.1.2\n"
     ]
    }
   ],
   "source": [
    "print(\"---- System information ----\")\n",
    "print(f\"OS: {platform.uname().system}, {platform.uname().release}\")\n",
    "print(f\"Platform: {platform.uname().machine}\")\n",
    "print(\"Logical cores:\", psutil.cpu_count(logical=True))\n",
    "print(f\"Max Frequency: {psutil.cpu_freq().max:.0f} Mhz\")\n",
    "print(f\"Total Memory: {psutil.virtual_memory().total / 1024 / 1024 / 1024:.2F} GB\")\n",
    "\n",
    "print(\"\\n---- Python information ----\")\n",
    "print(f\"python: {sys.version.split(' ')[0]}\")\n",
    "print(f\"psutil: {psutil.__version__}\")\n",
    "print(f\"pandas: {pd.__version__}\")\n",
    "print(f\"numpy: {np.__version__}\")\n",
    "print(f\"seaborn: {sns.__version__}\")\n",
    "print(f\"matplotlib: {matplotlib.__version__}\")"
   ]
  },
  {
   "cell_type": "markdown",
   "metadata": {},
   "source": [
    "## Configuration"
   ]
  },
  {
   "cell_type": "code",
   "execution_count": 3,
   "metadata": {},
   "outputs": [],
   "source": [
    "DATA_PATH = Path(\".\") / \"data\" / \"alexa\"\n",
    "\n",
    "DATASETS = {\n",
    "    \"US\": {\n",
    "        \"url\": \"https://www.ssa.gov/oact/babynames/names.zip\",\n",
    "        \"filename\": \"names_us.zip\",\n",
    "        \"release\": datetime.date(2015, 6, 28),\n",
    "    },\n",
    "    \"CH\": {\n",
    "        \"url_prefix\": \"\",\n",
    "        \"url\": [\n",
    "            \"https://www.bfs.admin.ch/bfsstatic/dam/assets/9127668/master\",\n",
    "            \"https://www.bfs.admin.ch/bfsstatic/dam/assets/9127688/master\",\n",
    "        ],\n",
    "        \"filename\": \"names_ch.zip\",\n",
    "        \"release\": datetime.date(2015, 6, 28),\n",
    "    },\n",
    "    \"EN, WLS\": {\n",
    "        \"url_prefix\": \"https://www.ons.gov.uk/file?uri=%2fpeoplepopulationandcommunity%2fbirthsdeathsandmarriages%2flivebirths%2fdatasets%2fbabynamesenglandandwales\",\n",
    "        \"url\": [\n",
    "            \"top100babynameshistoricaldata%2f19041994/historicname_tcm77-254032.xls\",\n",
    "            \"babynamesstatisticsboys%2f1996/1996boys_tcm77-254026.xls\",\n",
    "            \"babynamesstatisticsboys%2f1997/1997boys_tcm77-254022.xls\",\n",
    "            \"babynamesstatisticsboys%2f1998/1998boys_tcm77-254018.xls\",\n",
    "            \"babynamesstatisticsboys%2f1999/1999boys_tcm77-254014.xls\",\n",
    "            \"babynamesstatisticsboys%2f2000/2000boys_tcm77-254008.xls\",\n",
    "            \"babynamesstatisticsboys%2f2001/2001boys_tcm77-254000.xls\",\n",
    "            \"babynamesstatisticsboys%2f2002/2002boys_tcm77-253994.xls\",\n",
    "            \"babynamesstatisticsboys%2f2003/2003boys_tcm77-253990.xls\",\n",
    "            \"babynamesstatisticsboys%2f2004/2004boys_tcm77-253986.xls\",\n",
    "            \"babynamesstatisticsboys%2f2005/2005boys_tcm77-253982.xls\",\n",
    "            \"babynamesstatisticsboys%2f2006/2006boys_tcm77-253978.xls\",\n",
    "            \"babynamesstatisticsboys%2f2007/2007boys_tcm77-253973.xls\",\n",
    "            \"babynamesstatisticsboys%2f2008/2008boys_tcm77-253966.xls\",\n",
    "            \"babynamesstatisticsboys%2f2009/2009boys_tcm77-253932.xls\",\n",
    "            \"babynamesstatisticsboys%2f2010/2010boys_tcm77-253928.xls\",\n",
    "            \"babynamesstatisticsboys%2f2011/2011boysbabynamesfinal_tcm77-276133.xls\",\n",
    "            \"babynamesstatisticsboys%2f2012/2012boysbyareagorrsmonthwebtables_tcm77-323077.xls\",\n",
    "            \"babynamesstatisticsboys%2f2013/2013boysbyareagorrsmonthwebtables_tcm77-374580.xls\",\n",
    "            \"babynamesstatisticsboys%2f2014/2014boysbyareagorrsmonthwebtables_tcm77-413738.xls\",\n",
    "            \"babynamesstatisticsboys%2f2015/2015boysnamesfinal.xls\",\n",
    "            \"babynamesstatisticsboys%2f2016/2016boysnames.xls\",\n",
    "            \"babynamesstatisticsboys%2f2017/2017boysnames.xls\",\n",
    "            \"babynamesstatisticsboys%2f2018/2018boysnames.xls\",\n",
    "            \"babynamesstatisticsgirls%2f1996/1996girls_tcm77-254024.xls\",\n",
    "            \"babynamesstatisticsgirls%2f1997/1997girls_tcm77-254020.xls\",\n",
    "            \"babynamesstatisticsgirls%2f1998/1998girls_tcm77-254016.xls\",\n",
    "            \"babynamesstatisticsgirls%2f1999/1999girls_tcm77-254010.xls\",\n",
    "            \"babynamesstatisticsgirls%2f2000/2000girls_tcm77-254006.xls\",\n",
    "            \"babynamesstatisticsgirls%2f2001/2001girls_tcm77-253998.xls\",\n",
    "            \"babynamesstatisticsgirls%2f2002/2002girls_tcm77-253992.xls\",\n",
    "            \"babynamesstatisticsgirls%2f2003/2003girls_tcm77-253988.xls\",\n",
    "            \"babynamesstatisticsgirls%2f2004/2004girls_tcm77-253984.xls\",\n",
    "            \"babynamesstatisticsgirls%2f2005/2005girls_tcm77-253980.xls\",\n",
    "            \"babynamesstatisticsgirls%2f2006/2006girls_tcm77-253976.xls\",\n",
    "            \"babynamesstatisticsgirls%2f2007/2007girls_tcm77-253971.xls\",\n",
    "            \"babynamesstatisticsgirls%2f2008/2008girls_tcm77-253964.xls\",\n",
    "            \"babynamesstatisticsgirls%2f2009/2009girls_tcm77-253940.xls\",\n",
    "            \"babynamesstatisticsgirls%2f2010/2010girls_tcm77-253930.xls\",\n",
    "            \"babynamesstatisticsgirls%2f2011/2011girlsbabynamesfinal_tcm77-276135.xls\",\n",
    "            \"babynamesstatisticsgirls%2f2012/2012girlsbyareagorrsmonthwebtables_tcm77-323080.xls\",\n",
    "            \"babynamesstatisticsgirls%2f2013/2013girlsbyareagorrsmonthwebtables_tcm77-374588.xls\",\n",
    "            \"babynamesstatisticsgirls%2f2014/2014girlsbyareagorrsmonthwebtables_tcm77-413741.xls\",\n",
    "            \"babynamesstatisticsgirls%2f2015/2015girlsnamesfinal.xls\",\n",
    "            \"babynamesstatisticsgirls%2f2016/2016girlsnames.xls\",\n",
    "            \"babynamesstatisticsgirls%2f2017/2017girlsnames.xls\",\n",
    "            \"babynamesstatisticsgirls%2f2018/2018girlsnames.xls\",\n",
    "        ],\n",
    "        \"filename\": \"names_en_wls.zip\",\n",
    "        \"release\": datetime.date(2016, 9, 28),\n",
    "    },\n",
    "}"
   ]
  },
  {
   "cell_type": "raw",
   "metadata": {},
   "source": [
    "    \"AU\": {\n",
    "        \"url_prefix\": \"\",\n",
    "        \"url\": [\n",
    "            \"https://data.sa.gov.au/data/dataset/9849aa7f-e316-426e-8ab5-74658a62c7e6/resource/534d13f2-237c-4448-a6a3-93c07b1bb614/download/baby-names-1944-2013.zip\",\n",
    "            \"https://data.sa.gov.au/data/dataset/9849aa7f-e316-426e-8ab5-74658a62c7e6/resource/85f2d731-74bd-43fe-8895-f5f65e356c42/download/malecy2014top.csv\",\n",
    "            \"https://data.sa.gov.au/data/dataset/9849aa7f-e316-426e-8ab5-74658a62c7e6/resource/c11d4aff-fcb5-48a9-aa19-8e04bb8b716e/download/femalecy2014top.csv\",\n",
    "            \"https://data.sa.gov.au/data/dataset/9849aa7f-e316-426e-8ab5-74658a62c7e6/resource/954188d0-e5a9-469f-9356-ac340bd4eeff/download/malecy2015top.csv\",\n",
    "            \"https://data.sa.gov.au/data/dataset/9849aa7f-e316-426e-8ab5-74658a62c7e6/resource/90e682d9-3c82-4265-a5eb-87fa5a034375/download/femalecy2015top.csv\",\n",
    "            \"https://data.sa.gov.au/data/dataset/9849aa7f-e316-426e-8ab5-74658a62c7e6/resource/935e77ff-0609-46d7-8503-73e938194a8b/download/malecy2016top.csv\",\n",
    "            \"https://data.sa.gov.au/data/dataset/9849aa7f-e316-426e-8ab5-74658a62c7e6/resource/c9777b10-b1d4-48ce-ab6c-286c1e0da525/download/femalecy2016top.csv\",\n",
    "            \"https://data.sa.gov.au/data/dataset/9849aa7f-e316-426e-8ab5-74658a62c7e6/resource/920f9134-c32e-48b2-aaae-278dfb0a8ff4/download/cusersjacksm01desktopmalecy2017top.csv\",\n",
    "            \"https://data.sa.gov.au/data/dataset/9849aa7f-e316-426e-8ab5-74658a62c7e6/resource/8a1895d3-d5e1-425d-b89e-f394537763cc/download/cusersjacksm01desktopfemalecy2017top.csv\",\n",
    "            \"https://data.sa.gov.au/data/dataset/9849aa7f-e316-426e-8ab5-74658a62c7e6/resource/f253dbfa-2316-4506-95ee-1c1e1627663a/download/male_cy2018_top100.csv\",\n",
    "            \"https://data.sa.gov.au/data/dataset/9849aa7f-e316-426e-8ab5-74658a62c7e6/resource/875b3d83-a6f7-4364-b9c3-b3daed503af6/download/female_cy2018_top100.csv\"\n",
    "        ],\n",
    "        \"filename\": \"names_au.zip\",\n",
    "        \"release\": datetime.date(2018, 2, 1),"
   ]
  },
  {
   "cell_type": "markdown",
   "metadata": {},
   "source": [
    "# Preparation"
   ]
  },
  {
   "cell_type": "markdown",
   "metadata": {},
   "source": [
    "## Download Datasets"
   ]
  },
  {
   "cell_type": "code",
   "execution_count": 4,
   "metadata": {},
   "outputs": [
    {
     "name": "stdout",
     "output_type": "stream",
     "text": [
      "Downloading US-dataset:\n",
      "Get https://www.ssa.gov/oact/babynames/names.zip\n",
      "Done.\n",
      "\n",
      "Downloading CH-dataset:\n",
      "Get https://www.bfs.admin.ch/bfsstatic/dam/assets/9127668/master ...\n",
      "Get https://www.bfs.admin.ch/bfsstatic/dam/assets/9127688/master ...\n",
      "Done.\n",
      "\n",
      "Downloading EN, WLS-dataset:\n",
      "Get ndandwalestop100babynameshistoricaldata%2f19041994/historicname_tcm77-254032.xls ...\n",
      "Get babynamesenglandandwalesbabynamesstatisticsboys%2f1996/1996boys_tcm77-254026.xls ...\n",
      "Get babynamesenglandandwalesbabynamesstatisticsboys%2f1997/1997boys_tcm77-254022.xls ...\n",
      "Get babynamesenglandandwalesbabynamesstatisticsboys%2f1998/1998boys_tcm77-254018.xls ...\n",
      "Get babynamesenglandandwalesbabynamesstatisticsboys%2f1999/1999boys_tcm77-254014.xls ...\n",
      "Get babynamesenglandandwalesbabynamesstatisticsboys%2f2000/2000boys_tcm77-254008.xls ...\n",
      "Get babynamesenglandandwalesbabynamesstatisticsboys%2f2001/2001boys_tcm77-254000.xls ...\n",
      "Get babynamesenglandandwalesbabynamesstatisticsboys%2f2002/2002boys_tcm77-253994.xls ...\n",
      "Get babynamesenglandandwalesbabynamesstatisticsboys%2f2003/2003boys_tcm77-253990.xls ...\n",
      "Get babynamesenglandandwalesbabynamesstatisticsboys%2f2004/2004boys_tcm77-253986.xls ...\n",
      "Get babynamesenglandandwalesbabynamesstatisticsboys%2f2005/2005boys_tcm77-253982.xls ...\n",
      "Get babynamesenglandandwalesbabynamesstatisticsboys%2f2006/2006boys_tcm77-253978.xls ...\n",
      "Get babynamesenglandandwalesbabynamesstatisticsboys%2f2007/2007boys_tcm77-253973.xls ...\n",
      "Get babynamesenglandandwalesbabynamesstatisticsboys%2f2008/2008boys_tcm77-253966.xls ...\n",
      "Get babynamesenglandandwalesbabynamesstatisticsboys%2f2009/2009boys_tcm77-253932.xls ...\n",
      "Get babynamesenglandandwalesbabynamesstatisticsboys%2f2010/2010boys_tcm77-253928.xls ...\n",
      "Get ndandwalesbabynamesstatisticsboys%2f2011/2011boysbabynamesfinal_tcm77-276133.xls ...\n",
      "Get abynamesstatisticsboys%2f2012/2012boysbyareagorrsmonthwebtables_tcm77-323077.xls ...\n",
      "Get abynamesstatisticsboys%2f2013/2013boysbyareagorrsmonthwebtables_tcm77-374580.xls ...\n",
      "Get abynamesstatisticsboys%2f2014/2014boysbyareagorrsmonthwebtables_tcm77-413738.xls ...\n",
      "Get %2fbabynamesenglandandwalesbabynamesstatisticsboys%2f2015/2015boysnamesfinal.xls ...\n",
      "Get asets%2fbabynamesenglandandwalesbabynamesstatisticsboys%2f2016/2016boysnames.xls ...\n",
      "Get asets%2fbabynamesenglandandwalesbabynamesstatisticsboys%2f2017/2017boysnames.xls ...\n",
      "Get asets%2fbabynamesenglandandwalesbabynamesstatisticsboys%2f2018/2018boysnames.xls ...\n",
      "Get bynamesenglandandwalesbabynamesstatisticsgirls%2f1996/1996girls_tcm77-254024.xls ...\n",
      "Get bynamesenglandandwalesbabynamesstatisticsgirls%2f1997/1997girls_tcm77-254020.xls ...\n",
      "Get bynamesenglandandwalesbabynamesstatisticsgirls%2f1998/1998girls_tcm77-254016.xls ...\n",
      "Get bynamesenglandandwalesbabynamesstatisticsgirls%2f1999/1999girls_tcm77-254010.xls ...\n",
      "Get bynamesenglandandwalesbabynamesstatisticsgirls%2f2000/2000girls_tcm77-254006.xls ...\n",
      "Get bynamesenglandandwalesbabynamesstatisticsgirls%2f2001/2001girls_tcm77-253998.xls ...\n",
      "Get bynamesenglandandwalesbabynamesstatisticsgirls%2f2002/2002girls_tcm77-253992.xls ...\n",
      "Get bynamesenglandandwalesbabynamesstatisticsgirls%2f2003/2003girls_tcm77-253988.xls ...\n",
      "Get bynamesenglandandwalesbabynamesstatisticsgirls%2f2004/2004girls_tcm77-253984.xls ...\n",
      "Get bynamesenglandandwalesbabynamesstatisticsgirls%2f2005/2005girls_tcm77-253980.xls ...\n",
      "Get bynamesenglandandwalesbabynamesstatisticsgirls%2f2006/2006girls_tcm77-253976.xls ...\n",
      "Get bynamesenglandandwalesbabynamesstatisticsgirls%2f2007/2007girls_tcm77-253971.xls ...\n",
      "Get bynamesenglandandwalesbabynamesstatisticsgirls%2f2008/2008girls_tcm77-253964.xls ...\n",
      "Get bynamesenglandandwalesbabynamesstatisticsgirls%2f2009/2009girls_tcm77-253940.xls ...\n",
      "Get bynamesenglandandwalesbabynamesstatisticsgirls%2f2010/2010girls_tcm77-253930.xls ...\n",
      "Get andwalesbabynamesstatisticsgirls%2f2011/2011girlsbabynamesfinal_tcm77-276135.xls ...\n",
      "Get ynamesstatisticsgirls%2f2012/2012girlsbyareagorrsmonthwebtables_tcm77-323080.xls ...\n",
      "Get ynamesstatisticsgirls%2f2013/2013girlsbyareagorrsmonthwebtables_tcm77-374588.xls ...\n",
      "Get ynamesstatisticsgirls%2f2014/2014girlsbyareagorrsmonthwebtables_tcm77-413741.xls ...\n",
      "Get fbabynamesenglandandwalesbabynamesstatisticsgirls%2f2015/2015girlsnamesfinal.xls ...\n",
      "Get ets%2fbabynamesenglandandwalesbabynamesstatisticsgirls%2f2016/2016girlsnames.xls ...\n",
      "Get ets%2fbabynamesenglandandwalesbabynamesstatisticsgirls%2f2017/2017girlsnames.xls ...\n",
      "Get ets%2fbabynamesenglandandwalesbabynamesstatisticsgirls%2f2018/2018girlsnames.xls ...\n",
      "Done.\n",
      "\n"
     ]
    }
   ],
   "source": [
    "# Create target folder, if not existing\n",
    "DATA_PATH.mkdir(parents=True, exist_ok=True)\n",
    "\n",
    "# Download and store files\n",
    "for name, desc in DATASETS.items():\n",
    "    print(f\"Downloading {name}-dataset:\")\n",
    "    target_file = DATA_PATH / desc[\"filename\"]\n",
    "\n",
    "    if target_file.exists():\n",
    "        print(f\"Skipped download: {target_file} already exists. (Delete file in ./data/alexa first to re-download)\")\n",
    "        continue\n",
    "\n",
    "    # Handling multiple files...\n",
    "    if isinstance(desc[\"url\"], list):\n",
    "        with ZipFile(target_file, \"w\") as zipObj:\n",
    "            for idx, url in enumerate(desc[\"url\"]):\n",
    "                url = desc[\"url_prefix\"] + url\n",
    "                print(f\"Get {url[-80:]} ...\")\n",
    "                req = urllib.request.Request(url, headers={\"User-Agent\": \"Mozilla/5.0\"})\n",
    "                resp = urllib.request.urlopen(req)\n",
    "                stream = io.BytesIO()\n",
    "                stream.write(resp.read())\n",
    "                stream.seek(0)\n",
    "                zipObj.writestr(resp.info().get_filename(), stream.getvalue())\n",
    "    # Handling single file...\n",
    "    else:\n",
    "        print(f\"Get {desc['url'][-80:]}\")\n",
    "        urllib.request.urlretrieve(desc[\"url\"], target_file)\n",
    "\n",
    "    print(\"Done.\\n\")"
   ]
  },
  {
   "cell_type": "markdown",
   "metadata": {},
   "source": [
    "**Let's check, how much space the (zipped) data needs on our Harddrive:**"
   ]
  },
  {
   "cell_type": "code",
   "execution_count": 5,
   "metadata": {},
   "outputs": [
    {
     "name": "stdout",
     "output_type": "stream",
     "text": [
      "Size of all data files (/data/alexa/*): 49.86 MB\n"
     ]
    }
   ],
   "source": [
    "data_size = sum(f.stat().st_size for f in DATA_PATH.glob(\"**/*\") if f.is_file())\n",
    "print(f\"Size of all data files (/{DATA_PATH}/*): {data_size / 1024 / 1024:.2f} MB\")"
   ]
  },
  {
   "cell_type": "markdown",
   "metadata": {},
   "source": [
    "## Prepare Dataset"
   ]
  },
  {
   "cell_type": "markdown",
   "metadata": {},
   "source": [
    "Helper functions for simple loading datasets into pandas DataFrame:"
   ]
  },
  {
   "cell_type": "code",
   "execution_count": null,
   "metadata": {},
   "outputs": [],
   "source": [
    "def gen_dataset_us():\n",
    "    \"\"\"Generator yielding on year from US dataset.\n",
    "\n",
    "    Yields:\n",
    "        {pd.DataFrame} -- Dataframe containing names of one year\n",
    "\n",
    "    \"\"\"\n",
    "    file_path = DATA_PATH / DATASETS[\"US\"][\"filename\"]\n",
    "    with ZipFile(file_path, \"r\") as zip:\n",
    "        files = [f for f in zip.namelist() if f.endswith(\".txt\")]\n",
    "        for f in files:\n",
    "            df = pd.read_csv(zip.open(f), names=[\"Name\", \"Gender\", \"Count\"])\n",
    "            df[\"Year\"] = pd.to_datetime(int(f[3:7]), format=\"%Y\")\n",
    "            df[\"Dataset\"] = \"US\"\n",
    "            df[\"Rank\"] = df.groupby(\"Gender\")[\"Count\"].rank(\n",
    "                method=\"max\", ascending=False\n",
    "            )\n",
    "            yield df"
   ]
  },
  {
   "cell_type": "code",
   "execution_count": null,
   "metadata": {},
   "outputs": [],
   "source": [
    "def gen_dataset_ch():\n",
    "    \"\"\"Generator yielding on year from CH dataset.\n",
    "\n",
    "    Yields:\n",
    "        {pd.DataFrame} -- Dataframe containing names of one year\n",
    "\n",
    "    \"\"\"\n",
    "    file_path = DATA_PATH / DATASETS[\"US\"][\"filename\"]\n",
    "    with ZipFile(file_path, \"r\") as zip:\n",
    "        files = [f for f in zip.namelist() if f.endswith(\".txt\")]\n",
    "        for f in files:\n",
    "            df = pd.read_csv(zip.open(f), names=[\"Name\", \"Gender\", \"Count\"])\n",
    "            df[\"Year\"] = pd.to_datetime(int(f[3:7]), format=\"%Y\")\n",
    "            df[\"Dataset\"] = \"US\"\n",
    "            df[\"Rank\"] = df.groupby(\"Gender\")[\"Count\"].rank(\n",
    "                method=\"max\", ascending=False\n",
    "            )\n",
    "            yield df"
   ]
  },
  {
   "cell_type": "code",
   "execution_count": null,
   "metadata": {},
   "outputs": [],
   "source": [
    "def gen_dataset_en_wls():\n",
    "    \"\"\"Generator yielding on year from GB dataset.\n",
    "\n",
    "    Yields:\n",
    "        {pd.DataFrame} -- Dataframe containing names of one year\n",
    "\n",
    "    \"\"\"\n",
    "\n",
    "    def _map_year_sheet(year):\n",
    "        if year == 1996:\n",
    "            return 3\n",
    "        elif year <= 2010:\n",
    "            return 6\n",
    "        else:\n",
    "            return 8\n",
    "\n",
    "    def _map_year_header(year):\n",
    "        if year <= 2008:\n",
    "            return 5\n",
    "        elif year <= 2016:\n",
    "            return 4\n",
    "        else:\n",
    "            return 5\n",
    "\n",
    "    def _map_year_cols(year):\n",
    "        if year <= 2016:\n",
    "            return [1, 2, 3]\n",
    "        else:\n",
    "            return [0, 1, 2]\n",
    "\n",
    "    def _load_historic(zip, fn, sheet):\n",
    "        df = pd.read_excel(zip.open(fn), sheet_name=sheet, header=3, skipfooter=2)\n",
    "        # Drop empty first row\n",
    "        df = df.dropna()\n",
    "        # Unpivot\n",
    "        df = df.melt(id_vars=[\"RANK\"], value_vars=[1904])\n",
    "        # Rename Columns\n",
    "        df.columns = [\"Rank\", \"Year\", \"Name\"]\n",
    "        # Normalize Casing\n",
    "        df[\"Name\"] = df[\"Name\"].str.title().str.strip()\n",
    "        # Cast Datatypes\n",
    "        df[\"Rank\"] = df[\"Rank\"].astype(int)\n",
    "        df[\"Year\"] = pd.to_datetime(df[\"Year\"], format=\"%Y\")\n",
    "        # Add Gender and Country information\n",
    "        df[\"Gender\"] = \"M\" if sheet == \"Boys\" else \"F\"\n",
    "        df[\"Dataset\"] = \"EN, WLS\"\n",
    "        return df\n",
    "\n",
    "    def _load_recent(zip, fn):\n",
    "        year = int(fn[:4])\n",
    "        df = pd.read_excel(\n",
    "            zip.open(fn),\n",
    "            sheet_name=_map_year_sheet(year),\n",
    "            header=_map_year_header(year),\n",
    "            usecols=_map_year_cols(year),\n",
    "            names=[\"Rank\", \"Name\", \"Count\"],\n",
    "        )\n",
    "        # Number of footer rows in xls varies, so sometimes we get empty rows\n",
    "        df = df.dropna()\n",
    "        # Normalize Casing\n",
    "        df[\"Name\"] = df[\"Name\"].str.title().str.strip()\n",
    "        # Cast Datatypes\n",
    "        df[[\"Rank\", \"Count\"]] = df[[\"Rank\", \"Count\"]].astype(int)\n",
    "        # Add year and gender (from filename), and country information\n",
    "        df[\"Year\"] = pd.to_datetime(year, format=\"%Y\")\n",
    "        df[\"Gender\"] = \"M\" if \"boys\" in fn else \"F\"\n",
    "        df[\"Dataset\"] = \"EN, WLS\"\n",
    "        return df\n",
    "\n",
    "    file_path = DATA_PATH / DATASETS[\"EN, WLS\"][\"filename\"]\n",
    "    with ZipFile(file_path, \"r\") as zip:\n",
    "        files = [fn for fn in zip.namelist() if fn.endswith(\".xls\")]\n",
    "        for fn in files:\n",
    "            if fn.startswith(\"historicname\"):\n",
    "                yield _load_historic(zip, fn, \"Boys\")\n",
    "                yield _load_historic(zip, fn, \"Girls\")\n",
    "            if fn[:4].isdigit():\n",
    "                yield _load_recent(zip, fn)"
   ]
  },
  {
   "cell_type": "code",
   "execution_count": null,
   "metadata": {},
   "outputs": [],
   "source": [
    "def load_datasets(names):\n",
    "    \"\"\"Helper function to load datasets into single dataframe.\n",
    "\n",
    "    This also brings all datasets into the same form.\n",
    "\n",
    "    Arguments:\n",
    "        name {list} -- List of dataset short names, according to DATASETS\n",
    "\n",
    "    Returns:\n",
    "        {pd.DataFrame} -- All datasets in a single dataframe\n",
    "\n",
    "    \"\"\"\n",
    "    list_dfs = []\n",
    "\n",
    "    # Load individual Datasets\n",
    "    if \"US\" in names or \"all\" in names:\n",
    "        list_dfs.extend(gen_dataset_us())\n",
    "\n",
    "    if \"EN, WLS\" in names or \"all\" in names:\n",
    "        list_dfs.extend(gen_dataset_en_wls())\n",
    "\n",
    "    # Merge list of dataframes into single dataframe\n",
    "    df_all = pd.concat(list_dfs, axis=0, ignore_index=True, sort=False)\n",
    "\n",
    "    return df_all"
   ]
  },
  {
   "cell_type": "markdown",
   "metadata": {},
   "source": [
    "**Actually loading the data:**"
   ]
  },
  {
   "cell_type": "code",
   "execution_count": null,
   "metadata": {},
   "outputs": [],
   "source": [
    "%%time\n",
    "\n",
    "df = load_datasets([\"all\"])\n",
    "display(df.head())\n",
    "display(df.tail())"
   ]
  },
  {
   "cell_type": "markdown",
   "metadata": {},
   "source": [
    "**Calculating percentages of names per year, dataset and gender:**"
   ]
  },
  {
   "cell_type": "code",
   "execution_count": null,
   "metadata": {},
   "outputs": [],
   "source": [
    "def calculate_percentage(df):\n",
    "    # Group by dataset and year\n",
    "    # (using agg .first() as  we only have one value per group\n",
    "    df = df.groupby([\"Dataset\", \"Year\", \"Gender\", \"Name\", \"Rank\"]).first()\n",
    "\n",
    "    # transform count=0 back to to NaN\n",
    "    df[\"Count\"] = df[\"Count\"].replace(0, np.nan)\n",
    "\n",
    "    # Calculate percentage of names per year\n",
    "    df[\"Percentage\"] = 100 * df / df.groupby(level=1).transform(\"sum\")\n",
    "\n",
    "    # Convert multiindex back to to data column\n",
    "    df = df.reset_index()\n",
    "    return df"
   ]
  },
  {
   "cell_type": "code",
   "execution_count": null,
   "metadata": {},
   "outputs": [],
   "source": [
    "%%time\n",
    "\n",
    "df = calculate_percentage(df)\n",
    "df.tail()"
   ]
  },
  {
   "cell_type": "markdown",
   "metadata": {},
   "source": [
    "## Quick Sanity Checks"
   ]
  },
  {
   "cell_type": "markdown",
   "metadata": {},
   "source": [
    "**Are the percentages calculated correctely?**"
   ]
  },
  {
   "cell_type": "code",
   "execution_count": null,
   "metadata": {},
   "outputs": [],
   "source": [
    "perc_female_temp = sum(\n",
    "    df[(df[\"Dataset\"] == \"US\") & (df[\"Gender\"] == \"F\") & (df[\"Year\"] == \"1920-01-01\")][\n",
    "        \"Percentage\"\n",
    "    ]\n",
    ")\n",
    "perc_male_temp = sum(\n",
    "    df[(df[\"Dataset\"] == \"US\") & (df[\"Gender\"] == \"M\") & (df[\"Year\"] == \"1920-01-01\")][\n",
    "        \"Percentage\"\n",
    "    ]\n",
    ")\n",
    "\n",
    "print(f\"US in 1920:\\n{'-'*40}\\nFemale names:\\t{perc_female_temp:.2f} %\")\n",
    "print(f\"Male names:\\t{perc_male_temp:.2f} %\")\n",
    "print(f\"Total:\\t\\t{perc_female_temp+perc_male_temp} %\")"
   ]
  },
  {
   "cell_type": "markdown",
   "metadata": {},
   "source": [
    "**Do ranks, counts and percentage make sense?**"
   ]
  },
  {
   "cell_type": "code",
   "execution_count": null,
   "metadata": {},
   "outputs": [],
   "source": [
    "df_temp = df[(df[\"Name\"].isin([\"Alexa\", \"Victoria\"])) & (df[\"Gender\"] == \"F\")]\n",
    "\n",
    "fig, ax = plt.subplots(3, 1, figsize=(14, 8))\n",
    "sns.lineplot(x=\"Year\", y=\"Count\", hue=\"Name\", style=\"Dataset\", data=df_temp, ax=ax[0])\n",
    "sns.lineplot(\n",
    "    x=\"Year\", y=\"Percentage\", hue=\"Name\", style=\"Dataset\", data=df_temp, ax=ax[1]\n",
    ")\n",
    "sns.lineplot(x=\"Year\", y=\"Rank\", hue=\"Name\", style=\"Dataset\", data=df_temp, ax=ax[2]);"
   ]
  },
  {
   "cell_type": "markdown",
   "metadata": {},
   "source": [
    "## Filter dataset"
   ]
  },
  {
   "cell_type": "markdown",
   "metadata": {},
   "source": [
    "**Limiting to Name \"Alexa\":**\n",
    "\n",
    "Because this is what we want to visualize here. Also dropping \"Name\" column, as the data now only contains a single name."
   ]
  },
  {
   "cell_type": "code",
   "execution_count": null,
   "metadata": {},
   "outputs": [],
   "source": [
    "df_alexa = df[(df[\"Name\"] == \"Alexa\") & (df[\"Gender\"] == \"F\")]\n",
    "\n",
    "# Also drop \"Name\", as everything is \"Alexa\" now:\n",
    "df_alexa = df_alexa.drop(columns=\"Name\")\n",
    "\n",
    "df_alexa.head()"
   ]
  },
  {
   "cell_type": "markdown",
   "metadata": {},
   "source": [
    "**Limiting to years since 1996:** \n",
    "\n",
    "We don't have complete dataset for all countries earlier, see Sanity Checks."
   ]
  },
  {
   "cell_type": "code",
   "execution_count": null,
   "metadata": {},
   "outputs": [],
   "source": [
    "df_alexa = df_alexa[(df_alexa[\"Year\"] >= \"1996-01-01\")]\n",
    "df_alexa.head()"
   ]
  },
  {
   "cell_type": "markdown",
   "metadata": {},
   "source": [
    "**TODO: Wrap whole preprocessing**"
   ]
  },
  {
   "cell_type": "markdown",
   "metadata": {},
   "source": [
    "# Visualization"
   ]
  },
  {
   "cell_type": "markdown",
   "metadata": {},
   "source": [
    "## Quick and dirty version"
   ]
  },
  {
   "cell_type": "code",
   "execution_count": null,
   "metadata": {},
   "outputs": [],
   "source": [
    "datasets_count = len(DATASETS)\n",
    "fig, ax = plt.subplots(datasets_count, 2, figsize=(16, datasets_count * 4))\n",
    "\n",
    "for idx, dataset in enumerate(DATASETS.keys()):\n",
    "    df_alexa_dataset = df_alexa[df_alexa[\"Dataset\"] == dataset]\n",
    "    sns.lineplot(\n",
    "        x=\"Year\", y=\"Percentage\", data=df_alexa_dataset, ax=ax[idx][0], marker=\"o\"\n",
    "    )\n",
    "    sns.lineplot(x=\"Year\", y=\"Rank\", data=df_alexa_dataset, ax=ax[idx][1], marker=\"o\")\n",
    "    ax[idx][1].invert_yaxis()\n",
    "\n",
    "    ax[idx][0].axvline(x=DATASETS[dataset][\"release\"], color=\"orangered\", linewidth=1)\n",
    "    ax[idx][1].axvline(x=DATASETS[dataset][\"release\"], color=\"orangered\", linewidth=1);"
   ]
  },
  {
   "cell_type": "markdown",
   "metadata": {},
   "source": [
    "## Final Version"
   ]
  },
  {
   "cell_type": "markdown",
   "metadata": {},
   "source": [
    "# References\n",
    "\n",
    "[1] Wikipedia contributors (2019): **Amazon Alexa**. In *Wikipedia - The Free Encyclopedia*. Retrieved Dec 28, 2019, from <https://en.wikipedia.org/w/index.php?title=Amazon_Alexa&oldid=932280905>\n",
    "\n",
    "[2] Office for National Statistics (2019): **Baby names in England and Wales: 1996-2018**. Retrieved Dec 28, 2019, from <https://www.ons.gov.uk/peoplepopulationandcommunity/birthsdeathsandmarriages/livebirths/datasets/babynamesenglandandwalesbabynamesstatisticsgirls> and <https://www.ons.gov.uk/peoplepopulationandcommunity/birthsdeathsandmarriages/livebirths/datasets/babynamesenglandandwalesbabynamesstatisticsboys>\n",
    "\n",
    "[3] Office for National Statistics (2019): **Top 100 baby names in England and Wales: 1907-1994**. Retrieved Dec 28, 2019, from <https://www.ons.gov.uk/peoplepopulationandcommunity/birthsdeathsandmarriages/livebirths/datasets/babynamesenglandandwalestop100babynameshistoricaldata>\n",
    "\n",
    "[4] Social Security Administration (2019): **Baby Names from Social Security Card Applications - National Data**. Retrieved Jan 03, 2020, from https://catalog.data.gov/dataset/baby-names-from-social-security-card-applications-national-level-data"
   ]
  },
  {
   "cell_type": "code",
   "execution_count": null,
   "metadata": {},
   "outputs": [],
   "source": []
  },
  {
   "cell_type": "code",
   "execution_count": null,
   "metadata": {},
   "outputs": [],
   "source": []
  }
 ],
 "metadata": {
  "file_extension": ".py",
  "kernelspec": {
   "display_name": "Python 3",
   "language": "python",
   "name": "python3"
  },
  "language_info": {
   "codemirror_mode": {
    "name": "ipython",
    "version": 3
   },
   "file_extension": ".py",
   "mimetype": "text/x-python",
   "name": "python",
   "nbconvert_exporter": "python",
   "pygments_lexer": "ipython3",
   "version": "3.7.3"
  },
  "mimetype": "text/x-python",
  "name": "python",
  "npconvert_exporter": "python",
  "pygments_lexer": "ipython3",
  "toc-autonumbering": true,
  "toc-showcode": false,
  "toc-showmarkdowntxt": false,
  "toc-showtags": false,
  "version": 3
 },
 "nbformat": 4,
 "nbformat_minor": 4
}
